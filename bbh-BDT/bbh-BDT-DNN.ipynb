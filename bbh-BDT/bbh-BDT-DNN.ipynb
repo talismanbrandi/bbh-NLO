{
 "cells": [
  {
   "cell_type": "code",
   "execution_count": 83,
   "metadata": {
    "pycharm": {
     "is_executing": false
    }
   },
   "outputs": [
    {
     "name": "stdout",
     "text": [
      "2.1.0\n"
     ],
     "output_type": "stream"
    }
   ],
   "source": [
    "import numpy as np\n",
    "import pandas as pd\n",
    "import xgboost as xgb\n",
    "from sklearn import ensemble\n",
    "import sklearn.model_selection as ms\n",
    "from sklearn import metrics\n",
    "import shap\n",
    "import matplotlib.pyplot as plt\n",
    "import seaborn as sns\n",
    "import tensorflow as tf\n",
    "from tensorflow.keras.callbacks import Callback\n",
    "import os\n",
    "\n",
    "os.environ[\"CUDA_VISIBLE_DEVICES\"]=\"0,1,2,3\"\n",
    "os.environ['TF_CPP_MIN_LOG_LEVEL'] = '1'\n",
    "\n",
    "print(tf.__version__)"
   ]
  },
  {
   "cell_type": "code",
   "execution_count": 123,
   "metadata": {
    "pycharm": {
     "is_executing": false,
     "name": "#%%\n"
    }
   },
   "outputs": [],
   "source": [
    "df_sig = pd.read_csv(\"ROOT/sig.csv\")\n",
    "df_sig_test = df_sig.sample(frac=0.2).reset_index(drop=True)\n",
    "df_sig.drop(df_sig_test.index, inplace=True)\n",
    "df_bkg = pd.read_csv(\"ROOT/bkg.csv\")\n",
    "df_bkg_test = df_bkg.sample(frac=0.2).reset_index(drop=True)\n",
    "df_bkg.drop(df_bkg_test.index, inplace=True)\n",
    "df_train = pd.concat([df_sig,df_bkg], ignore_index=True)\n",
    "df_train = df_train.sample(frac=1).reset_index(drop=True)"
   ]
  },
  {
   "cell_type": "code",
   "execution_count": 129,
   "metadata": {
    "pycharm": {
     "is_executing": false,
     "name": "#%%\n"
    }
   },
   "outputs": [],
   "source": [
    "\n",
    "def runBDT(df, rf=False):\n",
    "    X = df.drop(columns=['class'])\n",
    "    y = df['class'].values\n",
    "\n",
    "    \"\"\" Split for training and testing\n",
    "    \"\"\"\n",
    "    x_train, x_test, y_train, y_test = ms.train_test_split(X.values, y, test_size=0.1, random_state=None)\n",
    "    \n",
    "    \"\"\" Fit the decision tree\n",
    "    \"\"\"\n",
    "    if rf: classifier = ensemble.RandomForestClassifier(max_depth=5, n_estimators=100, criterion='gini')\n",
    "    else: classifier = xgb.XGBClassifier(max_depth=5, learning_rate=0.02, objective='multi:softprob', num_class=2,\n",
    "                                   n_jobs=8, subsample=0.2, colsample_bytree=0.5, n_estimators=500)\n",
    "    classifier = classifier.fit(x_train, y_train)\n",
    "    \n",
    "    \"\"\" Predictions\n",
    "    \"\"\"\n",
    "    y_pred = classifier.predict(x_test)\n",
    "    print('Accuracy Score: {:4.2f}% '.format(100*metrics.accuracy_score(y_test, y_pred)))\n",
    "    \n",
    "    X_shap = pd.DataFrame(x_test, columns=df.drop(columns=['class']).columns)\n",
    "    explainer = shap.TreeExplainer(classifier)\n",
    "    shap_values = explainer.shap_values(X_shap)\n",
    "    # shap.summary_plot(shap_values, X_shap, plot_type='violin')\n",
    "    shap.summary_plot(shap_values, X_shap, plot_type='bar', class_names=[\"bkg\", \"sig\"], class_inds='original')\n",
    "    return classifier, x_test, y_test\n"
   ]
  },
  {
   "cell_type": "code",
   "execution_count": 130,
   "metadata": {
    "pycharm": {
     "is_executing": false,
     "name": "#%%\n"
    }
   },
   "outputs": [
    {
     "name": "stdout",
     "text": [
      "Accuracy Score: 98.34% \n"
     ],
     "output_type": "stream"
    },
    {
     "data": {
      "text/plain": "<Figure size 576x597.6 with 1 Axes>",
      "image/png": "[encoded data removed]"
     },
     "metadata": {
      "needs_background": "light"
     },
     "output_type": "display_data"
    }
   ],
   "source": [
    "classifier, x_test, y_test = runBDT(df_train, rf=False)"
   ]
  },
  {
   "cell_type": "code",
   "execution_count": 131,
   "outputs": [
    {
     "data": {
      "text/plain": "<Figure size 432x288 with 1 Axes>",
      "image/png": "[encoded data removed]"
     },
     "metadata": {
      "needs_background": "light"
     },
     "output_type": "display_data"
    }
   ],
   "source": [
    "signal_pred = pd.DataFrame(classifier.predict_proba(df_sig_test.drop(columns=['class']).values)[:,1])\n",
    "background_pred = pd.DataFrame(classifier.predict_proba(df_bkg_test.drop(columns=['class']).values)[:,1])\n",
    "\n",
    "sns.distplot(signal_pred, kde=False, bins=25, hist_kws={'alpha': 0.8})\n",
    "sns.distplot(background_pred, kde=False, bins=25, hist_kws={'alpha': 0.8})\n",
    "plt.yscale('log')\n"
   ],
   "metadata": {
    "collapsed": false,
    "pycharm": {
     "name": "#%%\n",
     "is_executing": false
    }
   }
  },
  {
   "cell_type": "code",
   "execution_count": 60,
   "outputs": [],
   "source": [
    "class PrintDots(Callback):\n",
    "    \"\"\" Print dots to monitor the progress of the fit\n",
    "    \"\"\"\n",
    "    def on_epoch_end(self, epoch, logs):\n",
    "        logs = logs or {}\n",
    "        value = logs.get('val_loss')\n",
    "        if epoch % 100 == 0:\n",
    "            print(' epochs = ', epoch, ' val_loss = ', value)\n",
    "        print('*', end='')\n",
    "\n",
    "class TerminateOnBaseline(Callback):\n",
    "    \"\"\" Callback that terminates training when monitored value reaches a specified baseline\n",
    "    \"\"\"\n",
    "    def __init__(self, monitor='val_loss', patience=200):\n",
    "        super(TerminateOnBaseline, self).__init__()\n",
    "        self.monitor = monitor\n",
    "        self.baseline = np.Inf\n",
    "        self.patience = patience\n",
    "        self.wait = 0\n",
    "        self.stopped_epoch = 0\n",
    "        self.best = np.Inf\n",
    "        self.best_weights = None\n",
    "\n",
    "    def on_epoch_end(self, epoch, logs=None):\n",
    "        logs = logs or {}\n",
    "        value = logs.get(self.monitor)\n",
    "        if epoch == 0:\n",
    "            self.baseline = value/100.\n",
    "        if np.less(value, self.best):\n",
    "            self.best = value\n",
    "            self.wait = 0\n",
    "            # Record the best weights if current results is better (less).\n",
    "            self.best_weights = self.model.get_weights()\n",
    "        else:\n",
    "            self.wait += 1\n",
    "        if value is not None:\n",
    "            if value <= self.baseline and self.wait >= self.patience:\n",
    "                self.stopped_epoch = epoch\n",
    "                print('\\nepoch %d: Reached baseline, terminating training and lost patience' % epoch)\n",
    "                self.model.stop_training = True\n",
    "                print('Restoring model weights from the end of the best epoch.')\n",
    "                self.model.set_weights(self.best_weights)\n",
    "            elif self.wait >= self.patience:\n",
    "                self.baseline *= 2.5\n",
    "                self.wait = self.patience/2\n",
    "                print('\\nbaseline increased since learning times is approaching death')\n",
    "                \n",
    "def plot_history(history):\n",
    "    \"\"\" Plots to track the history of the metrics\n",
    "    \"\"\"\n",
    "    hist = pd.DataFrame(history.history)\n",
    "    hist['epoch'] = history.epoch\n",
    "\n",
    "    plt.figure()\n",
    "    plt.xlabel('epoch')\n",
    "    plt.ylabel('accuracy [y]')\n",
    "    plt.plot(hist['epoch'], hist['accuracy'], label='train accuracy')\n",
    "    plt.plot(hist['epoch'], hist['val_accuracy'], label='val accuracy')\n",
    "    plt.ylim([0.8, 1])\n",
    "    plt.legend()\n",
    "    plt.show()\n",
    "\n",
    "    plt.figure()\n",
    "    plt.xlabel('epoch')\n",
    "    plt.ylabel('loss')\n",
    "    plt.plot(hist['epoch'], hist['loss'], label='train loss')\n",
    "    plt.plot(hist['epoch'], hist['val_loss'], label='val loss')\n",
    "    plt.ylim([0, 1])\n",
    "    plt.legend()\n",
    "    plt.show()\n",
    "    "
   ],
   "metadata": {
    "collapsed": false,
    "pycharm": {
     "name": "#%% The Neural Network\n",
     "is_executing": false
    }
   }
  },
  {
   "cell_type": "code",
   "execution_count": 102,
   "outputs": [],
   "source": [
    "def build_model(df):\n",
    "    \"\"\" Build the model, define the optimizer and compile the model\n",
    "    \"\"\"\n",
    "    model = tf.keras.Sequential([\n",
    "        tf.keras.layers.Dense(13, activation='linear', input_shape=[len(df.keys())-1]),\n",
    "        tf.keras.layers.Dense(16, activation='relu'),\n",
    "        tf.keras.layers.Dense(16, activation='relu'),\n",
    "        tf.keras.layers.Dense(16, activation='relu'),\n",
    "        tf.keras.layers.Dense(2, activation='softmax')\n",
    "    ])\n",
    "\n",
    "    model.compile(optimizer='adam',\n",
    "                  loss='sparse_categorical_crossentropy',\n",
    "                  metrics=['accuracy'])\n",
    "    return model"
   ],
   "metadata": {
    "collapsed": false,
    "pycharm": {
     "name": "#%%\n",
     "is_executing": false
    }
   }
  },
  {
   "cell_type": "code",
   "execution_count": 103,
   "outputs": [
    {
     "name": "stdout",
     "text": [
      "Model: \"sequential_12\"\n_________________________________________________________________\nLayer (type)                 Output Shape              Param #   \n=================================================================\ndense_53 (Dense)             (None, 13)                234       \n_________________________________________________________________\ndense_54 (Dense)             (None, 16)                224       \n_________________________________________________________________\ndense_55 (Dense)             (None, 16)                272       \n_________________________________________________________________\ndense_56 (Dense)             (None, 16)                272       \n_________________________________________________________________\ndense_57 (Dense)             (None, 2)                 34        \n=================================================================\nTotal params: 1,036\nTrainable params: 1,036\nNon-trainable params: 0\n_________________________________________________________________\n"
     ],
     "output_type": "stream"
    }
   ],
   "source": [
    "model = build_model(df_sig)\n",
    "model.summary()    \n",
    "    "
   ],
   "metadata": {
    "collapsed": false,
    "pycharm": {
     "name": "#%%\n",
     "is_executing": false
    }
   }
  },
  {
   "cell_type": "code",
   "execution_count": 104,
   "outputs": [
    {
     "name": "stdout",
     "text": [
      " epochs =  0  val_loss =  0.3298811325028218\n*",
      "*",
      "*",
      "*",
      "*",
      "*",
      "*",
      "*",
      "*",
      "*",
      "*",
      "*",
      "*",
      "*",
      "*",
      "*",
      "*",
      "*",
      "*",
      "*",
      "*",
      "*",
      "*",
      "*",
      "*",
      "*",
      "*",
      "*",
      "*",
      "*",
      "*",
      "*",
      "*",
      "*",
      "*",
      "*",
      "*",
      "*",
      "*",
      "*",
      "*",
      "*",
      "*",
      "*",
      "*",
      "*",
      "*",
      "*",
      "*",
      "*",
      "*",
      "*",
      "*",
      "*",
      "*",
      "*",
      "*",
      "*",
      "*",
      "\nbaseline increased since learning times is approaching death\n*",
      "*",
      "*",
      "*",
      "*",
      "*",
      "*",
      "*",
      "*",
      "*",
      "*",
      "*",
      "*",
      "*",
      "*",
      "*",
      "*",
      "*",
      "*",
      "*",
      "*",
      "*",
      "*",
      "*",
      "*",
      "\nbaseline increased since learning times is approaching death\n*",
      "*",
      "*",
      "*",
      "*",
      "*",
      "*",
      "*",
      "*",
      "*",
      "*",
      "*",
      "*",
      "*",
      "*",
      "*",
      " epochs =  100  val_loss =  0.09352583322022948\n*",
      "*",
      "*",
      "*",
      "*",
      "*",
      "*",
      "*",
      "*",
      "*",
      "*",
      "*",
      "*",
      "*",
      "*",
      "*",
      "*",
      "*",
      "*",
      "*",
      "*",
      "*",
      "*",
      "*",
      "*",
      "*",
      "*",
      "\nbaseline increased since learning times is approaching death\n*",
      "*",
      "*",
      "*",
      "*",
      "\nbaseline increased since learning times is approaching death\n*",
      "*",
      "*",
      "*",
      "*",
      "\nbaseline increased since learning times is approaching death\n*",
      "*",
      "*",
      "*",
      "*",
      "\nbaseline increased since learning times is approaching death\n*",
      "*",
      "*",
      "*",
      "*",
      "\nbaseline increased since learning times is approaching death\n*",
      "*",
      "*",
      "*",
      "*",
      "*",
      "*",
      "*",
      "*",
      "*",
      "*",
      "*",
      "*",
      "\nepoch 160: Reached baseline, terminating training and lost patience\nRestoring model weights from the end of the best epoch.\n*"
     ],
     "output_type": "stream"
    }
   ],
   "source": [
    "# learning_rate = 0.003\n",
    "EPOCHS = 200\n",
    "patience = 10\n",
    "df_train_set = df_train.copy(deep=True)\n",
    "df_train_labels = df_train_set.pop('class')\n",
    "\n",
    "\"\"\" Extract the history of the fit\n",
    "\"\"\"\n",
    "history = model.fit(\n",
    "    df_train_set, df_train_labels,\n",
    "    epochs=EPOCHS, validation_split = 0.2, verbose=0,\n",
    "    callbacks=[TerminateOnBaseline(monitor='val_loss', patience=patience), PrintDots()])\n"
   ],
   "metadata": {
    "collapsed": false,
    "pycharm": {
     "name": "#%%\n",
     "is_executing": false
    }
   }
  },
  {
   "cell_type": "code",
   "execution_count": 112,
   "outputs": [
    {
     "name": "stdout",
     "text": [
      "\n Epochs =  160\nTesting set accuracy for signal: 98.35%\n",
      "Testing set accuracy for background: 97.87%\n"
     ],
     "output_type": "stream"
    }
   ],
   "source": [
    "\"\"\" Extract the history and make some plots\n",
    "\"\"\"\n",
    "print(\"\\n\", \"Epochs = \", history.epoch[-1])\n",
    "\n",
    "loss, accuracy = model.evaluate(df_sig_test.iloc[:,:-1], df_sig_test.iloc[:,-1], verbose=0)\n",
    "print(\"Testing set accuracy for signal: {:4.2f}%\".format(accuracy*100))\n",
    "loss, accuracy = model.evaluate(df_bkg_test.iloc[:,:-1], df_bkg_test.iloc[:,-1], verbose=0)\n",
    "print(\"Testing set accuracy for background: {:4.2f}%\".format(accuracy*100))\n"
   ],
   "metadata": {
    "collapsed": false,
    "pycharm": {
     "name": "#%%\n",
     "is_executing": false
    }
   }
  },
  {
   "cell_type": "code",
   "execution_count": 121,
   "outputs": [
    {
     "data": {
      "text/plain": "<Figure size 432x288 with 1 Axes>",
      "image/png": "[encoded data removed]"
     },
     "metadata": {
      "needs_background": "light"
     },
     "output_type": "display_data"
    },
    {
     "data": {
      "text/plain": "<Figure size 432x288 with 1 Axes>",
      "image/png": "[encoded data removed]"
     },
     "metadata": {
      "needs_background": "light"
     },
     "output_type": "display_data"
    }
   ],
   "source": [
    "test_predictions_sig = model.predict(df_sig_test.iloc[:,:-1])[:,1]\n",
    "test_predictions_bkg = model.predict(df_bkg_test.iloc[:,:-1])[:,1]\n",
    "\n",
    "plt.figure()\n",
    "plt.hist(test_predictions_sig, bins=25, alpha=0.8)\n",
    "plt.hist(test_predictions_bkg, bins=25, alpha=0.8)\n",
    "plt.yscale('log')"
   ],
   "metadata": {
    "collapsed": false,
    "pycharm": {
     "name": "#%%\n",
     "is_executing": false
    }
   }
  },
  {
   "cell_type": "code",
   "execution_count": 108,
   "outputs": [
    {
     "data": {
      "text/plain": "<Figure size 432x288 with 1 Axes>",
      "image/png": "[encoded data removed]"
     },
     "metadata": {
      "needs_background": "light"
     },
     "output_type": "display_data"
    },
    {
     "data": {
      "text/plain": "<Figure size 432x288 with 1 Axes>",
      "image/png": "[encoded data removed]"
     },
     "metadata": {
      "needs_background": "light"
     },
     "output_type": "display_data"
    }
   ],
   "source": [
    "plot_history(history)"
   ],
   "metadata": {
    "collapsed": false,
    "pycharm": {
     "name": "#%%\n",
     "is_executing": false
    }
   }
  },
  {
   "cell_type": "code",
   "execution_count": null,
   "outputs": [],
   "source": [
    "\n"
   ],
   "metadata": {
    "collapsed": false,
    "pycharm": {
     "name": "#%%\n"
    }
   }
  }
 ],
 "metadata": {
  "kernelspec": {
   "name": "pycharm-38c7cf03",
   "language": "python",
   "display_name": "PyCharm (Tutorials)"
  },
  "language_info": {
   "codemirror_mode": {
    "name": "ipython",
    "version": 3
   },
   "file_extension": ".py",
   "mimetype": "text/x-python",
   "name": "python",
   "nbconvert_exporter": "python",
   "pygments_lexer": "ipython3",
   "version": "3.6.8"
  },
  "pycharm": {
   "stem_cell": {
    "cell_type": "raw",
    "source": [],
    "metadata": {
     "collapsed": false
    }
   }
  }
 },
 "nbformat": 4,
 "nbformat_minor": 1
}